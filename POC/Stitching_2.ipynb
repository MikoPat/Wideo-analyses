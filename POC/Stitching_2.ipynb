{
 "cells": [
  {
   "cell_type": "code",
   "execution_count": 1,
   "metadata": {},
   "outputs": [],
   "source": [
    "import cv2\n",
    "\n",
    "def stitch_videos(video1_path, video2_path, output_path):\n",
    "    video1 = cv2.VideoCapture(video1_path)\n",
    "    video2 = cv2.VideoCapture(video2_path)\n",
    "\n",
    "    fps = int(video1.get(cv2.CAP_PROP_FPS))\n",
    "    width = int(video1.get(cv2.CAP_PROP_FRAME_WIDTH))\n",
    "    height = int(video1.get(cv2.CAP_PROP_FRAME_HEIGHT))\n",
    "\n",
    "    fourcc = cv2.VideoWriter_fourcc(*'mp4v') \n",
    "    output_video = cv2.VideoWriter(output_path, fourcc, fps, (width, height))\n",
    "\n",
    "    while True:\n",
    "        ret1, frame1 = video1.read()\n",
    "        ret2, frame2 = video2.read()\n",
    "\n",
    "        if not ret1 or not ret2:\n",
    "            break\n",
    "\n",
    "        result_frame = cv2.hconcat([frame1, frame2])\n",
    "\n",
    "        output_video.write(result_frame)\n",
    "\n",
    "    video1.release()\n",
    "    video2.release()\n",
    "    output_video.release()\n",
    "\n",
    "    print(\"Videos stitched successfully!\")"
   ]
  },
  {
   "cell_type": "code",
   "execution_count": 4,
   "metadata": {},
   "outputs": [
    {
     "name": "stdout",
     "output_type": "stream",
     "text": [
      "Videos stitched successfully!\n"
     ]
    }
   ],
   "source": [
    "video1_path = '../Wideo/left_1.MOV'\n",
    "video2_path = '../Wideo/right_1.MOV'\n",
    "output_path = '../Wideo/out_1.MOV'\n",
    "\n",
    "stitch_videos(video1_path, video2_path, output_path)"
   ]
  }
 ],
 "metadata": {
  "kernelspec": {
   "display_name": "Python 3",
   "language": "python",
   "name": "python3"
  },
  "language_info": {
   "codemirror_mode": {
    "name": "ipython",
    "version": 3
   },
   "file_extension": ".py",
   "mimetype": "text/x-python",
   "name": "python",
   "nbconvert_exporter": "python",
   "pygments_lexer": "ipython3",
   "version": "3.10.9"
  }
 },
 "nbformat": 4,
 "nbformat_minor": 2
}
