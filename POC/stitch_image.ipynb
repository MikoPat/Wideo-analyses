{
 "cells": [
  {
   "cell_type": "code",
   "execution_count": 2,
   "metadata": {},
   "outputs": [
    {
     "name": "stderr",
     "output_type": "stream",
     "text": [
      "2023-12-04 22:54:37.844 Python[20782:6878006] WARNING: Secure coding is not enabled for restorable state! Enable secure coding by implementing NSApplicationDelegate.applicationSupportsSecureRestorableState: and returning YES.\n"
     ]
    },
    {
     "ename": "KeyboardInterrupt",
     "evalue": "",
     "output_type": "error",
     "traceback": [
      "\u001b[0;31m---------------------------------------------------------------------------\u001b[0m",
      "\u001b[0;31mKeyboardInterrupt\u001b[0m                         Traceback (most recent call last)",
      "\u001b[1;32m/Users/mikolajpaterka/Documents/Projects/Wideo-analyses/POC/stitch_image.ipynb Cell 1\u001b[0m line \u001b[0;36m4\n\u001b[1;32m     <a href='vscode-notebook-cell:/Users/mikolajpaterka/Documents/Projects/Wideo-analyses/POC/stitch_image.ipynb#W0sZmlsZQ%3D%3D?line=46'>47</a>\u001b[0m \u001b[39m# Display the blended image\u001b[39;00m\n\u001b[1;32m     <a href='vscode-notebook-cell:/Users/mikolajpaterka/Documents/Projects/Wideo-analyses/POC/stitch_image.ipynb#W0sZmlsZQ%3D%3D?line=47'>48</a>\u001b[0m cv2\u001b[39m.\u001b[39mimshow(\u001b[39m'\u001b[39m\u001b[39mBlended Image\u001b[39m\u001b[39m'\u001b[39m, blended_image)\n\u001b[0;32m---> <a href='vscode-notebook-cell:/Users/mikolajpaterka/Documents/Projects/Wideo-analyses/POC/stitch_image.ipynb#W0sZmlsZQ%3D%3D?line=48'>49</a>\u001b[0m cv2\u001b[39m.\u001b[39;49mwaitKey(\u001b[39m0\u001b[39;49m)\n\u001b[1;32m     <a href='vscode-notebook-cell:/Users/mikolajpaterka/Documents/Projects/Wideo-analyses/POC/stitch_image.ipynb#W0sZmlsZQ%3D%3D?line=49'>50</a>\u001b[0m cv2\u001b[39m.\u001b[39mdestroyAllWindows()\n",
      "\u001b[0;31mKeyboardInterrupt\u001b[0m: "
     ]
    },
    {
     "ename": "",
     "evalue": "",
     "output_type": "error",
     "traceback": [
      "\u001b[1;31mThe Kernel crashed while executing code in the the current cell or a previous cell. Please review the code in the cell(s) to identify a possible cause of the failure. Click <a href='https://aka.ms/vscodeJupyterKernelCrash'>here</a> for more info. View Jupyter <a href='command:jupyter.viewOutput'>log</a> for further details."
     ]
    }
   ],
   "source": [
    "import cv2\n",
    "import numpy as np\n",
    "\n",
    "image1 = cv2.imread('../Wideo/left_1.png')\n",
    "image2 = cv2.imread('../Wideo/right_1.png')\n",
    "\n",
    "\n",
    "gray1 = cv2.cvtColor(image1, cv2.COLOR_BGR2GRAY)\n",
    "gray2 = cv2.cvtColor(image2, cv2.COLOR_BGR2GRAY)\n",
    "\n",
    "sift = cv2.SIFT_create()\n",
    "\n",
    "keypoints1, descriptors1 = sift.detectAndCompute(gray1, None)\n",
    "keypoints2, descriptors2 = sift.detectAndCompute(gray2, None)\n",
    "\n",
    "bf = cv2.BFMatcher()\n",
    "\n",
    "matches = bf.match(descriptors1, descriptors2)\n",
    "\n",
    "num_matches = 50\n",
    "matches = sorted(matches, key=lambda x: x.distance)[:num_matches]\n",
    "\n",
    "src_points = np.float32([keypoints1[match.queryIdx].pt for match in matches]).reshape(-1, 1, 2)\n",
    "dst_points = np.float32([keypoints2[match.trainIdx].pt for match in matches]).reshape(-1, 1, 2)\n",
    "\n",
    "homography, _ = cv2.findHomography(src_points, dst_points, cv2.RANSAC, 5.0)\n",
    "\n",
    "result = cv2.warpPerspective(image1, homography, (image2.shape[1], image2.shape[0]))\n",
    "\n",
    "alpha = 0.5 \n",
    "blended_image = cv2.addWeighted(result, alpha, image2, 1 - alpha, 0)\n",
    "\n",
    "cv2.imshow('Blended Image', blended_image)\n",
    "cv2.waitKey(0)\n",
    "cv2.destroyAllWindows()"
   ]
  }
 ],
 "metadata": {
  "kernelspec": {
   "display_name": "Python 3",
   "language": "python",
   "name": "python3"
  },
  "language_info": {
   "codemirror_mode": {
    "name": "ipython",
    "version": 3
   },
   "file_extension": ".py",
   "mimetype": "text/x-python",
   "name": "python",
   "nbconvert_exporter": "python",
   "pygments_lexer": "ipython3",
   "version": "3.10.9"
  }
 },
 "nbformat": 4,
 "nbformat_minor": 2
}
